{
 "cells": [
  {
   "cell_type": "code",
   "execution_count": 9,
   "metadata": {},
   "outputs": [
    {
     "data": {
      "text/plain": [
       "count    500.000000\n",
       "mean       0.064943\n",
       "std        0.082284\n",
       "min        0.014436\n",
       "25%        0.028792\n",
       "50%        0.044271\n",
       "75%        0.073784\n",
       "max        1.433988\n",
       "dtype: float64"
      ]
     },
     "execution_count": 9,
     "metadata": {},
     "output_type": "execute_result"
    }
   ],
   "source": [
    "import pandas as pd\n",
    "\n",
    "path = \"C:/Users/716705/Documents/GitHub/SudokuCode/sudoku_solution/output/37_clues_easy_times.csv\"\n",
    "\n",
    "file =  open(path, \"r\")\n",
    "data = []\n",
    "for line in file:\n",
    "\tdata.append(int(line.strip())/1000000)\n",
    "\n",
    "df = pd.Series(data)\n",
    "df.describe()"
   ]
  },
  {
   "cell_type": "code",
   "execution_count": null,
   "metadata": {},
   "outputs": [],
   "source": []
  }
 ],
 "metadata": {
  "kernelspec": {
   "display_name": "Python 3",
   "language": "python",
   "name": "python3"
  },
  "language_info": {
   "codemirror_mode": {
    "name": "ipython",
    "version": 3
   },
   "file_extension": ".py",
   "mimetype": "text/x-python",
   "name": "python",
   "nbconvert_exporter": "python",
   "pygments_lexer": "ipython3",
   "version": "3.7.0"
  }
 },
 "nbformat": 4,
 "nbformat_minor": 2
}
